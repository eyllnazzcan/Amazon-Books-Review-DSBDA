{
 "cells": [
  {
   "cell_type": "code",
   "execution_count": 12,
   "id": "7a14ceb2-e670-48d5-af35-386aec9bbad7",
   "metadata": {},
   "outputs": [],
   "source": [
    "import findspark\n",
    "findspark.init()\n",
    "\n",
    "from pyspark.sql import SparkSession\n",
    "from pyspark.sql.functions import col\n",
    "from pyspark.sql.functions import length, split, size, udf\n",
    "from pyspark.sql.types import DoubleType\n",
    "from pyspark.ml.feature import VectorAssembler\n",
    "from pyspark.sql import functions as F"
   ]
  },
  {
   "cell_type": "code",
   "execution_count": 13,
   "id": "a5a81e2d-6e87-4406-a728-9dcaad68d0dd",
   "metadata": {},
   "outputs": [
    {
     "name": "stdout",
     "output_type": "stream",
     "text": [
      "+-----------+--------------------+\n",
      "|star_rating|         review_body|\n",
      "+-----------+--------------------+\n",
      "|        4.0|Unlike many books...|\n",
      "|        5.0|This book is the ...|\n",
      "|        5.0|When I started th...|\n",
      "|        5.0|This book has som...|\n",
      "|        4.0|This book is a sm...|\n",
      "+-----------+--------------------+\n",
      "only showing top 5 rows\n",
      "\n"
     ]
    }
   ],
   "source": [
    "spark = SparkSession.builder.appName(\"HypothesisTesting\").getOrCreate()\n",
    "\n",
    "hdfs_path = \"hdfs://localhost:54310/user/ubuntu/books_dataset/\"\n",
    "\n",
    "df = spark.read.csv(hdfs_path, header=True, inferSchema=True)\n",
    "\n",
    "df = df.select(\"star_rating\", \"review_body\").dropna()\n",
    "\n",
    "df.show(5)\n"
   ]
  },
  {
   "cell_type": "code",
   "execution_count": 14,
   "id": "74419053-274a-4dd9-b659-71b531c85956",
   "metadata": {},
   "outputs": [
    {
     "name": "stdout",
     "output_type": "stream",
     "text": [
      "+-----------+--------------------+----------+------------------+\n",
      "|star_rating|         review_body|word_count| lexical_diversity|\n",
      "+-----------+--------------------+----------+------------------+\n",
      "|        4.0|Unlike many books...|       107|0.7850467289719626|\n",
      "|        5.0|This book is the ...|        81|0.8441558441558441|\n",
      "|        5.0|When I started th...|       129|0.5317460317460317|\n",
      "|        5.0|This book has som...|        56|0.8113207547169812|\n",
      "|        4.0|This book is a sm...|       108|0.7129629629629629|\n",
      "+-----------+--------------------+----------+------------------+\n",
      "only showing top 5 rows\n",
      "\n"
     ]
    }
   ],
   "source": [
    "# Review length\n",
    "df = df.withColumn(\"word_count\", size(split(col(\"review_body\"), \" \")))\n",
    "\n",
    "# Lexical diversity (unique/total words)\n",
    "def lexical_diversity(text):\n",
    "    words = text.split()\n",
    "    if len(words) == 0:\n",
    "        return 0.0\n",
    "    return len(set(words)) / len(words)\n",
    "\n",
    "lex_div_udf = udf(lexical_diversity, DoubleType())\n",
    "df = df.withColumn(\"lexical_diversity\", lex_div_udf(col(\"review_body\")))\n",
    "\n",
    "df.show(5)\n"
   ]
  },
  {
   "cell_type": "code",
   "execution_count": 15,
   "id": "8e5abcb9-80ea-48a1-b6a6-2de268b89d6e",
   "metadata": {},
   "outputs": [
    {
     "name": "stdout",
     "output_type": "stream",
     "text": [
      "+-----------+------------------+---------------------+\n",
      "|star_rating|    avg_word_count|avg_lexical_diversity|\n",
      "+-----------+------------------+---------------------+\n",
      "|        1.0| 159.4943438914027|    0.757366908202626|\n",
      "|        4.0|193.03222341568207|   0.7255875323141988|\n",
      "|        3.0|200.86643026004728|    0.719642057291603|\n",
      "|        2.0|174.48813559322033|   0.7372424089447392|\n",
      "|        5.0|146.36644895152975|   0.7571991505899387|\n",
      "+-----------+------------------+---------------------+\n",
      "\n"
     ]
    }
   ],
   "source": [
    "# Divide word length and word diversity into groups\n",
    "grouped_df = df.groupBy(\"star_rating\").agg(\n",
    "    F.avg(\"word_count\").alias(\"avg_word_count\"),\n",
    "    F.avg(\"lexical_diversity\").alias(\"avg_lexical_diversity\")\n",
    ")\n",
    "\n",
    "grouped_df.show()\n"
   ]
  },
  {
   "cell_type": "code",
   "execution_count": 16,
   "id": "29a37ad0-f921-4758-bf8d-db43d298dff4",
   "metadata": {},
   "outputs": [],
   "source": [
    "# Filter ratings\n",
    "one_star_df = df.filter(df[\"star_rating\"] == 1)\n",
    "three_star_df = df.filter(df[\"star_rating\"] == 3)\n",
    "five_star_df = df.filter(df[\"star_rating\"] == 5)\n",
    "\n",
    "# Calculate average word length and word diversity for ratings\n",
    "one_star_word_count = one_star_df.select(\"word_count\").rdd.flatMap(lambda x: x).collect()\n",
    "three_star_word_count = three_star_df.select(\"word_count\").rdd.flatMap(lambda x: x).collect()\n",
    "five_star_word_count = five_star_df.select(\"word_count\").rdd.flatMap(lambda x: x).collect()\n",
    "\n",
    "one_star_lexical_diversity = one_star_df.select(\"lexical_diversity\").rdd.flatMap(lambda x: x).collect()\n",
    "three_star_lexical_diversity = three_star_df.select(\"lexical_diversity\").rdd.flatMap(lambda x: x).collect()\n",
    "five_star_lexical_diversity = five_star_df.select(\"lexical_diversity\").rdd.flatMap(lambda x: x).collect()"
   ]
  },
  {
   "cell_type": "code",
   "execution_count": 17,
   "id": "ea165dd6-85e5-42ed-94ff-81ad0459f46c",
   "metadata": {},
   "outputs": [
    {
     "name": "stdout",
     "output_type": "stream",
     "text": [
      "t-test p-value for word_count (1 vs 3): 5.439479425301659e-07\n",
      "t-test p-value for word_count (1 vs 5): 0.01330603575191302\n",
      "t-test p-value for word_count (3 vs 5): 1.8335360370733528e-22\n",
      "t-test p-value for lexical_diversity (1 vs 3): 7.037612997071968e-13\n",
      "t-test p-value for lexical_diversity (1 vs 5): 0.9657666235601587\n",
      "t-test p-value for lexical_diversity (3 vs 5): 4.699088483939013e-21\n"
     ]
    }
   ],
   "source": [
    "import scipy.stats as stats\n",
    "\n",
    "# Word length difference between ratings\n",
    "t_stat_1_3, p_value_1_3_word_count = stats.ttest_ind(one_star_word_count, three_star_word_count)\n",
    "t_stat_1_5, p_value_1_5_word_count = stats.ttest_ind(one_star_word_count, five_star_word_count)\n",
    "t_stat_3_5, p_value_3_5_word_count = stats.ttest_ind(three_star_word_count, five_star_word_count)\n",
    "\n",
    "# Word diversity difference between ratings\n",
    "t_stat_1_3_div, p_value_1_3_div = stats.ttest_ind(one_star_lexical_diversity, three_star_lexical_diversity)\n",
    "t_stat_1_5_div, p_value_1_5_div = stats.ttest_ind(one_star_lexical_diversity, five_star_lexical_diversity)\n",
    "t_stat_3_5_div, p_value_3_5_div = stats.ttest_ind(three_star_lexical_diversity, five_star_lexical_diversity)\n",
    "\n",
    "# Results\n",
    "print(f\"t-test p-value for word_count (1 vs 3): {p_value_1_3_word_count}\")\n",
    "print(f\"t-test p-value for word_count (1 vs 5): {p_value_1_5_word_count}\")\n",
    "print(f\"t-test p-value for word_count (3 vs 5): {p_value_3_5_word_count}\")\n",
    "\n",
    "print(f\"t-test p-value for lexical_diversity (1 vs 3): {p_value_1_3_div}\")\n",
    "print(f\"t-test p-value for lexical_diversity (1 vs 5): {p_value_1_5_div}\")\n",
    "print(f\"t-test p-value for lexical_diversity (3 vs 5): {p_value_3_5_div}\")\n"
   ]
  },
  {
   "cell_type": "code",
   "execution_count": null,
   "id": "41fa45fc-7740-452f-a4dc-d86b8be800db",
   "metadata": {},
   "outputs": [],
   "source": [
    "#Helpfulness Ratio"
   ]
  },
  {
   "cell_type": "code",
   "execution_count": 18,
   "id": "847b060e-04f9-4833-a72c-fee42ac4460f",
   "metadata": {},
   "outputs": [
    {
     "name": "stdout",
     "output_type": "stream",
     "text": [
      "+----------+--------------------+-----------+-------------+-----------+--------------------+--------------------+-----------+\n",
      "|product_id|       product_title|star_rating|helpful_votes|total_votes|     review_headline|         review_body|review_date|\n",
      "+----------+--------------------+-----------+-------------+-----------+--------------------+--------------------+-----------+\n",
      "|0312977379|    Beware the Night|        4.0|         61.0|       79.0|A book that actua...|Unlike many books...| 2005-10-13|\n",
      "|1420832158|JEET KUNE DO: THE...|        5.0|          1.0|        4.0|Something  For Ev...|This book is the ...| 2005-10-13|\n",
      "|0312977379|    Beware the Night|        5.0|         12.0|       18.0|    Beware the Night|When I started th...| 2005-10-13|\n",
      "|0312336853|Shooter: The Auto...|        5.0|          1.0|        4.0|Hard to put this ...|This book has som...| 2005-10-13|\n",
      "|0756607574|             Panties|        4.0|          5.0|       12.0|         A Nice Read|This book is a sm...| 2005-10-13|\n",
      "+----------+--------------------+-----------+-------------+-----------+--------------------+--------------------+-----------+\n",
      "only showing top 5 rows\n",
      "\n"
     ]
    }
   ],
   "source": [
    "reviews_df = spark.read.csv(\"hdfs://localhost:54310/user/ubuntu/books_dataset/\", \n",
    "                            header=True, inferSchema=True)\n",
    "\n",
    "# Avoid division by zero\n",
    "df = reviews_df.withColumn(\n",
    "    \"helpfulness_ratio\",\n",
    "    F.when(F.col(\"total_votes\") > 0, F.col(\"helpful_votes\") / F.col(\"total_votes\")).otherwise(0)\n",
    ")\n",
    "\n",
    "reviews_df.show(5)"
   ]
  },
  {
   "cell_type": "code",
   "execution_count": 19,
   "id": "3870615e-4da2-43ec-a575-e3469ac925d1",
   "metadata": {},
   "outputs": [
    {
     "name": "stdout",
     "output_type": "stream",
     "text": [
      "+-----------+------------------+---------+\n",
      "|star_rating|   avg_helpfulness|n_reviews|\n",
      "+-----------+------------------+---------+\n",
      "|        1.0|0.5232437553223662|      884|\n",
      "|        2.0|0.5734397707697685|      590|\n",
      "|        3.0|0.5960579096637704|      846|\n",
      "|        4.0| 0.652346492112155|     1862|\n",
      "|        5.0|0.6899920776574328|     5818|\n",
      "+-----------+------------------+---------+\n",
      "\n",
      "+-----------------------+\n",
      "|corr_length_helpfulness|\n",
      "+-----------------------+\n",
      "|    0.17551772153715803|\n",
      "+-----------------------+\n",
      "\n"
     ]
    }
   ],
   "source": [
    "df.groupBy(\"star_rating\").agg(\n",
    "    F.avg(\"helpfulness_ratio\").alias(\"avg_helpfulness\"),\n",
    "    F.count(\"*\").alias(\"n_reviews\")\n",
    ").orderBy(\"star_rating\").show()\n",
    "\n",
    "df = df.withColumn(\"review_length\", F.length(\"review_body\"))\n",
    "\n",
    "df.select(\n",
    "    F.corr(\"review_length\", \"helpfulness_ratio\").alias(\"corr_length_helpfulness\")\n",
    ").show()"
   ]
  },
  {
   "cell_type": "code",
   "execution_count": 20,
   "id": "4d022152-e42c-4d01-a61e-e06790555a34",
   "metadata": {},
   "outputs": [
    {
     "data": {
      "image/png": "[encoded data removed]",
      "text/plain": [
       "<Figure size 800x500 with 1 Axes>"
      ]
     },
     "metadata": {},
     "output_type": "display_data"
    }
   ],
   "source": [
    "import matplotlib.pyplot as plt\n",
    "\n",
    "pdf = df.select(\"star_rating\", \"helpfulness_ratio\").sample(fraction=0.1).toPandas()\n",
    "pdf.boxplot(column=\"helpfulness_ratio\", by=\"star_rating\", figsize=(8,5))\n",
    "plt.suptitle(\"\")\n",
    "plt.title(\"Helpfulness Ratio by Star Rating\")\n",
    "plt.show()"
   ]
  },
  {
   "cell_type": "code",
   "execution_count": 21,
   "id": "cc312782-483c-4efd-a2fd-429cdbfa41d2",
   "metadata": {},
   "outputs": [],
   "source": [
    "import pymongo\n",
    "\n",
    "# MongoDB instance (default port 27017)\n",
    "client = pymongo.MongoClient(\"mongodb://localhost:27017/\")\n",
    "\n",
    "# Database and collection\n",
    "db = client[\"books_reviews_db\"]\n",
    "collection = db[\"reviews\"]"
   ]
  },
  {
   "cell_type": "code",
   "execution_count": 22,
   "id": "7d5a9cb3-45b2-4410-9909-0d4e07fa588d",
   "metadata": {},
   "outputs": [
    {
     "name": "stdout",
     "output_type": "stream",
     "text": [
      "Inserted 10000 documents into MongoDB\n"
     ]
    }
   ],
   "source": [
    "pdf = df.toPandas()\n",
    "\n",
    "# Pandas → dict\n",
    "records = pdf.to_dict(orient=\"records\")\n",
    "\n",
    "# Insert to MongoDB\n",
    "collection.insert_many(records)\n",
    "print(f\"Inserted {len(records)} documents into MongoDB\")"
   ]
  }
 ],
 "metadata": {
  "kernelspec": {
   "display_name": "Python 3 (ipykernel)",
   "language": "python",
   "name": "python3"
  },
  "language_info": {
   "codemirror_mode": {
    "name": "ipython",
    "version": 3
   },
   "file_extension": ".py",
   "mimetype": "text/x-python",
   "name": "python",
   "nbconvert_exporter": "python",
   "pygments_lexer": "ipython3",
   "version": "3.8.10"
  }
 },
 "nbformat": 4,
 "nbformat_minor": 5
}
